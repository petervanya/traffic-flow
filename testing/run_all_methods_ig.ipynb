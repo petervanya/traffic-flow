{
 "cells": [
  {
   "cell_type": "markdown",
   "metadata": {},
   "source": [
    "# Test the whole workflow with Igraph\n",
    "\n",
    "Created: 2020-09-04"
   ]
  },
  {
   "cell_type": "markdown",
   "metadata": {},
   "source": [
    "### Undirected"
   ]
  },
  {
   "cell_type": "code",
   "execution_count": 1,
   "metadata": {},
   "outputs": [],
   "source": [
    "import sys\n",
    "sys.path.append('..')"
   ]
  },
  {
   "cell_type": "code",
   "execution_count": 2,
   "metadata": {},
   "outputs": [],
   "source": [
    "from mtsim import MTMUndirected\n",
    "from mtsim.sample_networks import load_network_2_undirected"
   ]
  },
  {
   "cell_type": "code",
   "execution_count": 3,
   "metadata": {},
   "outputs": [],
   "source": [
    "df_nodes, df_link_types, df_links = load_network_2_undirected()"
   ]
  },
  {
   "cell_type": "code",
   "execution_count": 4,
   "metadata": {},
   "outputs": [],
   "source": [
    "model = MTMUndirected()\n",
    "model.read_data(df_nodes, df_link_types, df_links)\n",
    "model.compute_skims()\n",
    "model.generate(\"ALL\", \"pop\", \"pop\", 0.3)\n",
    "model.distribute(\"ALL\", \"t0\", \"exp\", -0.02)\n",
    "model.assign(\"tcur\")"
   ]
  },
  {
   "cell_type": "code",
   "execution_count": 5,
   "metadata": {},
   "outputs": [
    {
     "data": {
      "text/plain": [
       "Index(['type', 'type_name', 'qmax', 'v0', 'a', 'b'], dtype='object')"
      ]
     },
     "execution_count": 5,
     "metadata": {},
     "output_type": "execute_result"
    }
   ],
   "source": [
    "model.df_lt.columns"
   ]
  },
  {
   "cell_type": "code",
   "execution_count": 6,
   "metadata": {},
   "outputs": [
    {
     "data": {
      "text/plain": [
       "Index(['type', 'type_name', 'qmax', 'v0', 'a', 'b'], dtype='object')"
      ]
     },
     "execution_count": 6,
     "metadata": {},
     "output_type": "execute_result"
    }
   ],
   "source": [
    "df_link_types.columns"
   ]
  },
  {
   "cell_type": "code",
   "execution_count": 7,
   "metadata": {},
   "outputs": [
    {
     "data": {
      "text/plain": [
       "True"
      ]
     },
     "execution_count": 7,
     "metadata": {},
     "output_type": "execute_result"
    }
   ],
   "source": [
    "import numpy as np\n",
    "\n",
    "COLS = [\"type\", \"type_name\", \"v0\", \"qmax\", \"a\", \"b\"]\n",
    "np.isin(COLS, model.df_lt.columns).all()"
   ]
  },
  {
   "cell_type": "code",
   "execution_count": 9,
   "metadata": {},
   "outputs": [
    {
     "data": {
      "text/html": [
       "<div>\n",
       "<style scoped>\n",
       "    .dataframe tbody tr th:only-of-type {\n",
       "        vertical-align: middle;\n",
       "    }\n",
       "\n",
       "    .dataframe tbody tr th {\n",
       "        vertical-align: top;\n",
       "    }\n",
       "\n",
       "    .dataframe thead th {\n",
       "        text-align: right;\n",
       "    }\n",
       "</style>\n",
       "<table border=\"1\" class=\"dataframe\">\n",
       "  <thead>\n",
       "    <tr style=\"text-align: right;\">\n",
       "      <th></th>\n",
       "      <th></th>\n",
       "      <th>id</th>\n",
       "      <th>type</th>\n",
       "      <th>length</th>\n",
       "      <th>name</th>\n",
       "      <th>count</th>\n",
       "      <th>type_name</th>\n",
       "      <th>qmax</th>\n",
       "      <th>v0</th>\n",
       "      <th>a</th>\n",
       "      <th>b</th>\n",
       "      <th>t0</th>\n",
       "      <th>q</th>\n",
       "      <th>tcur</th>\n",
       "      <th>vcur</th>\n",
       "    </tr>\n",
       "    <tr>\n",
       "      <th>node_from</th>\n",
       "      <th>node_to</th>\n",
       "      <th></th>\n",
       "      <th></th>\n",
       "      <th></th>\n",
       "      <th></th>\n",
       "      <th></th>\n",
       "      <th></th>\n",
       "      <th></th>\n",
       "      <th></th>\n",
       "      <th></th>\n",
       "      <th></th>\n",
       "      <th></th>\n",
       "      <th></th>\n",
       "      <th></th>\n",
       "      <th></th>\n",
       "    </tr>\n",
       "  </thead>\n",
       "  <tbody>\n",
       "    <tr>\n",
       "      <th>1</th>\n",
       "      <th>2</th>\n",
       "      <td>1</td>\n",
       "      <td>1</td>\n",
       "      <td>36.000</td>\n",
       "      <td>BA-TT D1</td>\n",
       "      <td>45085.0</td>\n",
       "      <td>D_6</td>\n",
       "      <td>70000</td>\n",
       "      <td>110</td>\n",
       "      <td>0.15</td>\n",
       "      <td>4</td>\n",
       "      <td>19.636364</td>\n",
       "      <td>91674.023936</td>\n",
       "      <td>28.300900</td>\n",
       "      <td>76.322660</td>\n",
       "    </tr>\n",
       "    <tr>\n",
       "      <th rowspan=\"2\" valign=\"top\">2</th>\n",
       "      <th>3</th>\n",
       "      <td>2</td>\n",
       "      <td>2</td>\n",
       "      <td>36.006</td>\n",
       "      <td>TT-NR R1</td>\n",
       "      <td>25135.0</td>\n",
       "      <td>D_4</td>\n",
       "      <td>50000</td>\n",
       "      <td>125</td>\n",
       "      <td>0.15</td>\n",
       "      <td>4</td>\n",
       "      <td>17.282880</td>\n",
       "      <td>68541.749241</td>\n",
       "      <td>26.437664</td>\n",
       "      <td>81.715238</td>\n",
       "    </tr>\n",
       "    <tr>\n",
       "      <th>4</th>\n",
       "      <td>3</td>\n",
       "      <td>2</td>\n",
       "      <td>75.005</td>\n",
       "      <td>TT-TN D1</td>\n",
       "      <td>19088.0</td>\n",
       "      <td>D_4</td>\n",
       "      <td>50000</td>\n",
       "      <td>125</td>\n",
       "      <td>0.15</td>\n",
       "      <td>4</td>\n",
       "      <td>36.002400</td>\n",
       "      <td>53550.530451</td>\n",
       "      <td>43.107952</td>\n",
       "      <td>104.396053</td>\n",
       "    </tr>\n",
       "    <tr>\n",
       "      <th>4</th>\n",
       "      <th>5</th>\n",
       "      <td>4</td>\n",
       "      <td>2</td>\n",
       "      <td>71.690</td>\n",
       "      <td>TN-ZA D1</td>\n",
       "      <td>17280.0</td>\n",
       "      <td>D_4</td>\n",
       "      <td>50000</td>\n",
       "      <td>125</td>\n",
       "      <td>0.15</td>\n",
       "      <td>4</td>\n",
       "      <td>34.411200</td>\n",
       "      <td>43080.246798</td>\n",
       "      <td>37.255817</td>\n",
       "      <td>115.455796</td>\n",
       "    </tr>\n",
       "    <tr>\n",
       "      <th>5</th>\n",
       "      <th>6</th>\n",
       "      <td>5</td>\n",
       "      <td>5</td>\n",
       "      <td>24.330</td>\n",
       "      <td>ZA-MT I/18, I/65</td>\n",
       "      <td>20196.0</td>\n",
       "      <td>I_2 slow</td>\n",
       "      <td>15000</td>\n",
       "      <td>65</td>\n",
       "      <td>0.15</td>\n",
       "      <td>4</td>\n",
       "      <td>22.458462</td>\n",
       "      <td>42426.754323</td>\n",
       "      <td>238.066755</td>\n",
       "      <td>6.131894</td>\n",
       "    </tr>\n",
       "  </tbody>\n",
       "</table>\n",
       "</div>"
      ],
      "text/plain": [
       "                   id  type  length              name    count type_name  \\\n",
       "node_from node_to                                                          \n",
       "1         2         1     1  36.000          BA-TT D1  45085.0       D_6   \n",
       "2         3         2     2  36.006          TT-NR R1  25135.0       D_4   \n",
       "          4         3     2  75.005          TT-TN D1  19088.0       D_4   \n",
       "4         5         4     2  71.690          TN-ZA D1  17280.0       D_4   \n",
       "5         6         5     5  24.330  ZA-MT I/18, I/65  20196.0  I_2 slow   \n",
       "\n",
       "                    qmax   v0     a  b         t0             q        tcur  \\\n",
       "node_from node_to                                                             \n",
       "1         2        70000  110  0.15  4  19.636364  91674.023936   28.300900   \n",
       "2         3        50000  125  0.15  4  17.282880  68541.749241   26.437664   \n",
       "          4        50000  125  0.15  4  36.002400  53550.530451   43.107952   \n",
       "4         5        50000  125  0.15  4  34.411200  43080.246798   37.255817   \n",
       "5         6        15000   65  0.15  4  22.458462  42426.754323  238.066755   \n",
       "\n",
       "                         vcur  \n",
       "node_from node_to              \n",
       "1         2         76.322660  \n",
       "2         3         81.715238  \n",
       "          4        104.396053  \n",
       "4         5        115.455796  \n",
       "5         6          6.131894  "
      ]
     },
     "execution_count": 9,
     "metadata": {},
     "output_type": "execute_result"
    }
   ],
   "source": [
    "model.df_links.head()"
   ]
  },
  {
   "cell_type": "code",
   "execution_count": 10,
   "metadata": {},
   "outputs": [
    {
     "data": {
      "text/plain": [
       "<AxesSubplot:xlabel='count', ylabel='q'>"
      ]
     },
     "execution_count": 10,
     "metadata": {},
     "output_type": "execute_result"
    },
    {
     "data": {
      "image/png": "[encoded data removed]",
      "text/plain": [
       "<Figure size 640x480 with 1 Axes>"
      ]
     },
     "metadata": {},
     "output_type": "display_data"
    }
   ],
   "source": [
    "model.df_links.plot.scatter(x=\"count\", y=\"q\")"
   ]
  },
  {
   "cell_type": "markdown",
   "metadata": {},
   "source": [
    "### Directed"
   ]
  },
  {
   "cell_type": "code",
   "execution_count": 11,
   "metadata": {},
   "outputs": [],
   "source": [
    "from mtsim import MTM\n",
    "from mtsim.sample_networks import load_network_2"
   ]
  },
  {
   "cell_type": "code",
   "execution_count": 12,
   "metadata": {},
   "outputs": [],
   "source": [
    "df_nodes, df_link_types, df_links = load_network_2()"
   ]
  },
  {
   "cell_type": "code",
   "execution_count": 13,
   "metadata": {},
   "outputs": [],
   "source": [
    "model = MTM()\n",
    "model.read_data(df_nodes, df_link_types, df_links)\n",
    "model.compute_skims()\n",
    "model.generate(\"ALL\", \"pop\", \"pop\", 0.3)\n",
    "model.distribute(\"ALL\", \"t0\", \"exp\", -0.02)\n",
    "model.assign(\"tcur\")"
   ]
  },
  {
   "cell_type": "code",
   "execution_count": 14,
   "metadata": {},
   "outputs": [
    {
     "data": {
      "text/html": [
       "<div>\n",
       "<style scoped>\n",
       "    .dataframe tbody tr th:only-of-type {\n",
       "        vertical-align: middle;\n",
       "    }\n",
       "\n",
       "    .dataframe tbody tr th {\n",
       "        vertical-align: top;\n",
       "    }\n",
       "\n",
       "    .dataframe thead th {\n",
       "        text-align: right;\n",
       "    }\n",
       "</style>\n",
       "<table border=\"1\" class=\"dataframe\">\n",
       "  <thead>\n",
       "    <tr style=\"text-align: right;\">\n",
       "      <th></th>\n",
       "      <th></th>\n",
       "      <th>id</th>\n",
       "      <th>type</th>\n",
       "      <th>length</th>\n",
       "      <th>name</th>\n",
       "      <th>count</th>\n",
       "      <th>type_name</th>\n",
       "      <th>qmax</th>\n",
       "      <th>v0</th>\n",
       "      <th>a</th>\n",
       "      <th>b</th>\n",
       "      <th>t0</th>\n",
       "      <th>q</th>\n",
       "      <th>tcur</th>\n",
       "      <th>vcur</th>\n",
       "      <th>geh</th>\n",
       "      <th>var_geh</th>\n",
       "    </tr>\n",
       "    <tr>\n",
       "      <th>node_from</th>\n",
       "      <th>node_to</th>\n",
       "      <th></th>\n",
       "      <th></th>\n",
       "      <th></th>\n",
       "      <th></th>\n",
       "      <th></th>\n",
       "      <th></th>\n",
       "      <th></th>\n",
       "      <th></th>\n",
       "      <th></th>\n",
       "      <th></th>\n",
       "      <th></th>\n",
       "      <th></th>\n",
       "      <th></th>\n",
       "      <th></th>\n",
       "      <th></th>\n",
       "      <th></th>\n",
       "    </tr>\n",
       "  </thead>\n",
       "  <tbody>\n",
       "    <tr>\n",
       "      <th>1</th>\n",
       "      <th>2</th>\n",
       "      <td>1</td>\n",
       "      <td>1</td>\n",
       "      <td>36.000</td>\n",
       "      <td>BA-TT D1</td>\n",
       "      <td>22543.0</td>\n",
       "      <td>D_6</td>\n",
       "      <td>35000</td>\n",
       "      <td>110</td>\n",
       "      <td>0.15</td>\n",
       "      <td>4</td>\n",
       "      <td>19.636364</td>\n",
       "      <td>45837.011968</td>\n",
       "      <td>28.300900</td>\n",
       "      <td>76.322660</td>\n",
       "      <td>39.837741</td>\n",
       "      <td>1587.045623</td>\n",
       "    </tr>\n",
       "    <tr>\n",
       "      <th rowspan=\"2\" valign=\"top\">2</th>\n",
       "      <th>1</th>\n",
       "      <td>1</td>\n",
       "      <td>1</td>\n",
       "      <td>36.000</td>\n",
       "      <td>BA-TT D1</td>\n",
       "      <td>22543.0</td>\n",
       "      <td>D_6</td>\n",
       "      <td>35000</td>\n",
       "      <td>110</td>\n",
       "      <td>0.15</td>\n",
       "      <td>4</td>\n",
       "      <td>19.636364</td>\n",
       "      <td>45837.011968</td>\n",
       "      <td>28.300900</td>\n",
       "      <td>76.322660</td>\n",
       "      <td>39.837741</td>\n",
       "      <td>1587.045623</td>\n",
       "    </tr>\n",
       "    <tr>\n",
       "      <th>3</th>\n",
       "      <td>2</td>\n",
       "      <td>2</td>\n",
       "      <td>36.006</td>\n",
       "      <td>TT-NR R1</td>\n",
       "      <td>12568.0</td>\n",
       "      <td>D_4</td>\n",
       "      <td>25000</td>\n",
       "      <td>125</td>\n",
       "      <td>0.15</td>\n",
       "      <td>4</td>\n",
       "      <td>17.282880</td>\n",
       "      <td>34270.874620</td>\n",
       "      <td>26.437664</td>\n",
       "      <td>81.715238</td>\n",
       "      <td>44.846549</td>\n",
       "      <td>2011.212996</td>\n",
       "    </tr>\n",
       "    <tr>\n",
       "      <th>3</th>\n",
       "      <th>2</th>\n",
       "      <td>2</td>\n",
       "      <td>2</td>\n",
       "      <td>36.006</td>\n",
       "      <td>TT-NR R1</td>\n",
       "      <td>12568.0</td>\n",
       "      <td>D_4</td>\n",
       "      <td>25000</td>\n",
       "      <td>125</td>\n",
       "      <td>0.15</td>\n",
       "      <td>4</td>\n",
       "      <td>17.282880</td>\n",
       "      <td>34270.874620</td>\n",
       "      <td>26.437664</td>\n",
       "      <td>81.715238</td>\n",
       "      <td>44.846549</td>\n",
       "      <td>2011.212996</td>\n",
       "    </tr>\n",
       "    <tr>\n",
       "      <th>2</th>\n",
       "      <th>4</th>\n",
       "      <td>3</td>\n",
       "      <td>2</td>\n",
       "      <td>75.005</td>\n",
       "      <td>TT-TN D1</td>\n",
       "      <td>9544.0</td>\n",
       "      <td>D_4</td>\n",
       "      <td>25000</td>\n",
       "      <td>125</td>\n",
       "      <td>0.15</td>\n",
       "      <td>4</td>\n",
       "      <td>36.002400</td>\n",
       "      <td>26775.265225</td>\n",
       "      <td>43.107952</td>\n",
       "      <td>104.396053</td>\n",
       "      <td>40.435576</td>\n",
       "      <td>1635.035838</td>\n",
       "    </tr>\n",
       "  </tbody>\n",
       "</table>\n",
       "</div>"
      ],
      "text/plain": [
       "                   id  type  length      name    count type_name   qmax   v0  \\\n",
       "node_from node_to                                                              \n",
       "1         2         1     1  36.000  BA-TT D1  22543.0       D_6  35000  110   \n",
       "2         1         1     1  36.000  BA-TT D1  22543.0       D_6  35000  110   \n",
       "          3         2     2  36.006  TT-NR R1  12568.0       D_4  25000  125   \n",
       "3         2         2     2  36.006  TT-NR R1  12568.0       D_4  25000  125   \n",
       "2         4         3     2  75.005  TT-TN D1   9544.0       D_4  25000  125   \n",
       "\n",
       "                      a  b         t0             q       tcur        vcur  \\\n",
       "node_from node_to                                                            \n",
       "1         2        0.15  4  19.636364  45837.011968  28.300900   76.322660   \n",
       "2         1        0.15  4  19.636364  45837.011968  28.300900   76.322660   \n",
       "          3        0.15  4  17.282880  34270.874620  26.437664   81.715238   \n",
       "3         2        0.15  4  17.282880  34270.874620  26.437664   81.715238   \n",
       "2         4        0.15  4  36.002400  26775.265225  43.107952  104.396053   \n",
       "\n",
       "                         geh      var_geh  \n",
       "node_from node_to                          \n",
       "1         2        39.837741  1587.045623  \n",
       "2         1        39.837741  1587.045623  \n",
       "          3        44.846549  2011.212996  \n",
       "3         2        44.846549  2011.212996  \n",
       "2         4        40.435576  1635.035838  "
      ]
     },
     "execution_count": 14,
     "metadata": {},
     "output_type": "execute_result"
    }
   ],
   "source": [
    "model.df_links.head()"
   ]
  },
  {
   "cell_type": "code",
   "execution_count": 15,
   "metadata": {},
   "outputs": [
    {
     "data": {
      "text/plain": [
       "<AxesSubplot:xlabel='count', ylabel='q'>"
      ]
     },
     "execution_count": 15,
     "metadata": {},
     "output_type": "execute_result"
    },
    {
     "data": {
      "image/png": "[encoded data removed]",
      "text/plain": [
       "<Figure size 640x480 with 1 Axes>"
      ]
     },
     "metadata": {},
     "output_type": "display_data"
    }
   ],
   "source": [
    "model.df_links.plot.scatter(x=\"count\", y=\"q\")"
   ]
  },
  {
   "cell_type": "code",
   "execution_count": null,
   "metadata": {},
   "outputs": [],
   "source": []
  },
  {
   "cell_type": "code",
   "execution_count": null,
   "metadata": {},
   "outputs": [],
   "source": []
  }
 ],
 "metadata": {
  "kernelspec": {
   "display_name": "Python 3",
   "language": "python",
   "name": "python3"
  },
  "language_info": {
   "codemirror_mode": {
    "name": "ipython",
    "version": 3
   },
   "file_extension": ".py",
   "mimetype": "text/x-python",
   "name": "python",
   "nbconvert_exporter": "python",
   "pygments_lexer": "ipython3",
   "version": "3.7.7"
  }
 },
 "nbformat": 4,
 "nbformat_minor": 4
}
