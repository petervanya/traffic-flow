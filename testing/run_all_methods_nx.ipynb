{
 "cells": [
  {
   "cell_type": "markdown",
   "metadata": {},
   "source": [
    "# A notebook to run the whole workflow with NetworkX\n",
    "\n",
    "14/08/20\n",
    "\n",
    "In parallel to the `test.py` script."
   ]
  },
  {
   "cell_type": "markdown",
   "metadata": {},
   "source": [
    "### Undirected"
   ]
  },
  {
   "cell_type": "code",
   "execution_count": 1,
   "metadata": {},
   "outputs": [],
   "source": [
    "from mtsim import MTMnx\n",
    "from mtsim.sample_networks import load_network_2"
   ]
  },
  {
   "cell_type": "code",
   "execution_count": 2,
   "metadata": {},
   "outputs": [],
   "source": [
    "df_nodes, df_link_types, df_links = load_network_2()"
   ]
  },
  {
   "cell_type": "code",
   "execution_count": 3,
   "metadata": {},
   "outputs": [
    {
     "data": {
      "text/html": [
       "<div>\n",
       "<style scoped>\n",
       "    .dataframe tbody tr th:only-of-type {\n",
       "        vertical-align: middle;\n",
       "    }\n",
       "\n",
       "    .dataframe tbody tr th {\n",
       "        vertical-align: top;\n",
       "    }\n",
       "\n",
       "    .dataframe thead th {\n",
       "        text-align: right;\n",
       "    }\n",
       "</style>\n",
       "<table border=\"1\" class=\"dataframe\">\n",
       "  <thead>\n",
       "    <tr style=\"text-align: right;\">\n",
       "      <th></th>\n",
       "      <th>id</th>\n",
       "      <th>is_zone</th>\n",
       "      <th>code</th>\n",
       "      <th>name</th>\n",
       "      <th>coords</th>\n",
       "      <th>pop</th>\n",
       "      <th>n_zam</th>\n",
       "      <th>n_pm</th>\n",
       "      <th>n_stud_vs</th>\n",
       "      <th>n_stud_zs_ss</th>\n",
       "    </tr>\n",
       "  </thead>\n",
       "  <tbody>\n",
       "    <tr>\n",
       "      <th>0</th>\n",
       "      <td>1</td>\n",
       "      <td>0</td>\n",
       "      <td>NaN</td>\n",
       "      <td>NaN</td>\n",
       "      <td>(1914068.2805,6131920.7668)</td>\n",
       "      <td>NaN</td>\n",
       "      <td>NaN</td>\n",
       "      <td>NaN</td>\n",
       "      <td>NaN</td>\n",
       "      <td>NaN</td>\n",
       "    </tr>\n",
       "    <tr>\n",
       "      <th>1</th>\n",
       "      <td>2</td>\n",
       "      <td>0</td>\n",
       "      <td>NaN</td>\n",
       "      <td>NaN</td>\n",
       "      <td>(1960345.9816,6156425.4523)</td>\n",
       "      <td>NaN</td>\n",
       "      <td>NaN</td>\n",
       "      <td>NaN</td>\n",
       "      <td>NaN</td>\n",
       "      <td>NaN</td>\n",
       "    </tr>\n",
       "  </tbody>\n",
       "</table>\n",
       "</div>"
      ],
      "text/plain": [
       "   id  is_zone  code name                       coords  pop  n_zam  n_pm  \\\n",
       "0   1        0   NaN  NaN  (1914068.2805,6131920.7668)  NaN    NaN   NaN   \n",
       "1   2        0   NaN  NaN  (1960345.9816,6156425.4523)  NaN    NaN   NaN   \n",
       "\n",
       "   n_stud_vs  n_stud_zs_ss  \n",
       "0        NaN           NaN  \n",
       "1        NaN           NaN  "
      ]
     },
     "execution_count": 3,
     "metadata": {},
     "output_type": "execute_result"
    }
   ],
   "source": [
    "df_nodes.head(2)"
   ]
  },
  {
   "cell_type": "code",
   "execution_count": 4,
   "metadata": {},
   "outputs": [
    {
     "data": {
      "text/html": [
       "<div>\n",
       "<style scoped>\n",
       "    .dataframe tbody tr th:only-of-type {\n",
       "        vertical-align: middle;\n",
       "    }\n",
       "\n",
       "    .dataframe tbody tr th {\n",
       "        vertical-align: top;\n",
       "    }\n",
       "\n",
       "    .dataframe thead th {\n",
       "        text-align: right;\n",
       "    }\n",
       "</style>\n",
       "<table border=\"1\" class=\"dataframe\">\n",
       "  <thead>\n",
       "    <tr style=\"text-align: right;\">\n",
       "      <th></th>\n",
       "      <th>id</th>\n",
       "      <th>name</th>\n",
       "      <th>qmax</th>\n",
       "      <th>v0</th>\n",
       "      <th>a</th>\n",
       "      <th>b</th>\n",
       "    </tr>\n",
       "  </thead>\n",
       "  <tbody>\n",
       "    <tr>\n",
       "      <th>0</th>\n",
       "      <td>1</td>\n",
       "      <td>D_6</td>\n",
       "      <td>70000</td>\n",
       "      <td>110</td>\n",
       "      <td>0.15</td>\n",
       "      <td>4</td>\n",
       "    </tr>\n",
       "    <tr>\n",
       "      <th>1</th>\n",
       "      <td>2</td>\n",
       "      <td>D_4</td>\n",
       "      <td>50000</td>\n",
       "      <td>125</td>\n",
       "      <td>0.15</td>\n",
       "      <td>4</td>\n",
       "    </tr>\n",
       "  </tbody>\n",
       "</table>\n",
       "</div>"
      ],
      "text/plain": [
       "   id name   qmax   v0     a  b\n",
       "0   1  D_6  70000  110  0.15  4\n",
       "1   2  D_4  50000  125  0.15  4"
      ]
     },
     "execution_count": 4,
     "metadata": {},
     "output_type": "execute_result"
    }
   ],
   "source": [
    "df_link_types.head(2)"
   ]
  },
  {
   "cell_type": "code",
   "execution_count": 5,
   "metadata": {},
   "outputs": [
    {
     "data": {
      "text/html": [
       "<div>\n",
       "<style scoped>\n",
       "    .dataframe tbody tr th:only-of-type {\n",
       "        vertical-align: middle;\n",
       "    }\n",
       "\n",
       "    .dataframe tbody tr th {\n",
       "        vertical-align: top;\n",
       "    }\n",
       "\n",
       "    .dataframe thead th {\n",
       "        text-align: right;\n",
       "    }\n",
       "</style>\n",
       "<table border=\"1\" class=\"dataframe\">\n",
       "  <thead>\n",
       "    <tr style=\"text-align: right;\">\n",
       "      <th></th>\n",
       "      <th>id</th>\n",
       "      <th>node_from</th>\n",
       "      <th>node_to</th>\n",
       "      <th>type</th>\n",
       "      <th>l</th>\n",
       "      <th>name</th>\n",
       "      <th>count</th>\n",
       "    </tr>\n",
       "  </thead>\n",
       "  <tbody>\n",
       "    <tr>\n",
       "      <th>0</th>\n",
       "      <td>1</td>\n",
       "      <td>1</td>\n",
       "      <td>2</td>\n",
       "      <td>1</td>\n",
       "      <td>36.000</td>\n",
       "      <td>BA-TT D1</td>\n",
       "      <td>45085.0</td>\n",
       "    </tr>\n",
       "    <tr>\n",
       "      <th>1</th>\n",
       "      <td>2</td>\n",
       "      <td>2</td>\n",
       "      <td>3</td>\n",
       "      <td>2</td>\n",
       "      <td>36.006</td>\n",
       "      <td>TT-NR R1</td>\n",
       "      <td>25135.0</td>\n",
       "    </tr>\n",
       "  </tbody>\n",
       "</table>\n",
       "</div>"
      ],
      "text/plain": [
       "   id  node_from  node_to  type       l      name    count\n",
       "0   1          1        2     1  36.000  BA-TT D1  45085.0\n",
       "1   2          2        3     2  36.006  TT-NR R1  25135.0"
      ]
     },
     "execution_count": 5,
     "metadata": {},
     "output_type": "execute_result"
    }
   ],
   "source": [
    "df_links.head(2)"
   ]
  },
  {
   "cell_type": "code",
   "execution_count": 6,
   "metadata": {},
   "outputs": [],
   "source": [
    "# MTM object\n",
    "mtm = MTMnx()\n",
    "mtm.read_data(df_nodes, df_link_types, df_links)\n",
    "mtm.compute_skims()\n",
    "mtm.generate(\"ALL\", \"pop\", \"pop\", 0.3)\n",
    "mtm.distribute(\"ALL\", \"t0\", \"exp\", 0.02)\n",
    "mtm.assign(\"tcur\")"
   ]
  },
  {
   "cell_type": "code",
   "execution_count": 7,
   "metadata": {},
   "outputs": [
    {
     "data": {
      "text/html": [
       "<div>\n",
       "<style scoped>\n",
       "    .dataframe tbody tr th:only-of-type {\n",
       "        vertical-align: middle;\n",
       "    }\n",
       "\n",
       "    .dataframe tbody tr th {\n",
       "        vertical-align: top;\n",
       "    }\n",
       "\n",
       "    .dataframe thead th {\n",
       "        text-align: right;\n",
       "    }\n",
       "</style>\n",
       "<table border=\"1\" class=\"dataframe\">\n",
       "  <thead>\n",
       "    <tr style=\"text-align: right;\">\n",
       "      <th></th>\n",
       "      <th></th>\n",
       "      <th>id</th>\n",
       "      <th>type</th>\n",
       "      <th>l</th>\n",
       "      <th>name</th>\n",
       "      <th>count</th>\n",
       "      <th>qmax</th>\n",
       "      <th>v0</th>\n",
       "      <th>a</th>\n",
       "      <th>b</th>\n",
       "      <th>t0</th>\n",
       "      <th>q</th>\n",
       "      <th>tcur</th>\n",
       "      <th>vcur</th>\n",
       "    </tr>\n",
       "    <tr>\n",
       "      <th>node_from</th>\n",
       "      <th>node_to</th>\n",
       "      <th></th>\n",
       "      <th></th>\n",
       "      <th></th>\n",
       "      <th></th>\n",
       "      <th></th>\n",
       "      <th></th>\n",
       "      <th></th>\n",
       "      <th></th>\n",
       "      <th></th>\n",
       "      <th></th>\n",
       "      <th></th>\n",
       "      <th></th>\n",
       "      <th></th>\n",
       "    </tr>\n",
       "  </thead>\n",
       "  <tbody>\n",
       "    <tr>\n",
       "      <th>1</th>\n",
       "      <th>2</th>\n",
       "      <td>1</td>\n",
       "      <td>1</td>\n",
       "      <td>36.000</td>\n",
       "      <td>BA-TT D1</td>\n",
       "      <td>45085.0</td>\n",
       "      <td>70000</td>\n",
       "      <td>110</td>\n",
       "      <td>0.15</td>\n",
       "      <td>4</td>\n",
       "      <td>19.636364</td>\n",
       "      <td>91674.023936</td>\n",
       "      <td>28.300900</td>\n",
       "      <td>76.322660</td>\n",
       "    </tr>\n",
       "    <tr>\n",
       "      <th rowspan=\"2\" valign=\"top\">2</th>\n",
       "      <th>3</th>\n",
       "      <td>2</td>\n",
       "      <td>2</td>\n",
       "      <td>36.006</td>\n",
       "      <td>TT-NR R1</td>\n",
       "      <td>25135.0</td>\n",
       "      <td>50000</td>\n",
       "      <td>125</td>\n",
       "      <td>0.15</td>\n",
       "      <td>4</td>\n",
       "      <td>17.282880</td>\n",
       "      <td>68541.749241</td>\n",
       "      <td>26.437664</td>\n",
       "      <td>81.715238</td>\n",
       "    </tr>\n",
       "    <tr>\n",
       "      <th>4</th>\n",
       "      <td>3</td>\n",
       "      <td>2</td>\n",
       "      <td>75.005</td>\n",
       "      <td>TT-TN D1</td>\n",
       "      <td>19088.0</td>\n",
       "      <td>50000</td>\n",
       "      <td>125</td>\n",
       "      <td>0.15</td>\n",
       "      <td>4</td>\n",
       "      <td>36.002400</td>\n",
       "      <td>53550.530451</td>\n",
       "      <td>43.107952</td>\n",
       "      <td>104.396053</td>\n",
       "    </tr>\n",
       "    <tr>\n",
       "      <th>4</th>\n",
       "      <th>5</th>\n",
       "      <td>4</td>\n",
       "      <td>2</td>\n",
       "      <td>71.690</td>\n",
       "      <td>TN-ZA D1</td>\n",
       "      <td>17280.0</td>\n",
       "      <td>50000</td>\n",
       "      <td>125</td>\n",
       "      <td>0.15</td>\n",
       "      <td>4</td>\n",
       "      <td>34.411200</td>\n",
       "      <td>43080.246798</td>\n",
       "      <td>37.255817</td>\n",
       "      <td>115.455796</td>\n",
       "    </tr>\n",
       "    <tr>\n",
       "      <th>5</th>\n",
       "      <th>6</th>\n",
       "      <td>5</td>\n",
       "      <td>5</td>\n",
       "      <td>24.330</td>\n",
       "      <td>ZA-MT I/18, I/65</td>\n",
       "      <td>20196.0</td>\n",
       "      <td>15000</td>\n",
       "      <td>65</td>\n",
       "      <td>0.15</td>\n",
       "      <td>4</td>\n",
       "      <td>22.458462</td>\n",
       "      <td>42426.754323</td>\n",
       "      <td>238.066755</td>\n",
       "      <td>6.131894</td>\n",
       "    </tr>\n",
       "  </tbody>\n",
       "</table>\n",
       "</div>"
      ],
      "text/plain": [
       "                   id  type       l              name    count   qmax   v0  \\\n",
       "node_from node_to                                                            \n",
       "1         2         1     1  36.000          BA-TT D1  45085.0  70000  110   \n",
       "2         3         2     2  36.006          TT-NR R1  25135.0  50000  125   \n",
       "          4         3     2  75.005          TT-TN D1  19088.0  50000  125   \n",
       "4         5         4     2  71.690          TN-ZA D1  17280.0  50000  125   \n",
       "5         6         5     5  24.330  ZA-MT I/18, I/65  20196.0  15000   65   \n",
       "\n",
       "                      a  b         t0             q        tcur        vcur  \n",
       "node_from node_to                                                            \n",
       "1         2        0.15  4  19.636364  91674.023936   28.300900   76.322660  \n",
       "2         3        0.15  4  17.282880  68541.749241   26.437664   81.715238  \n",
       "          4        0.15  4  36.002400  53550.530451   43.107952  104.396053  \n",
       "4         5        0.15  4  34.411200  43080.246798   37.255817  115.455796  \n",
       "5         6        0.15  4  22.458462  42426.754323  238.066755    6.131894  "
      ]
     },
     "execution_count": 7,
     "metadata": {},
     "output_type": "execute_result"
    }
   ],
   "source": [
    "mtm.df_links.head()"
   ]
  },
  {
   "cell_type": "code",
   "execution_count": 8,
   "metadata": {},
   "outputs": [
    {
     "name": "stderr",
     "output_type": "stream",
     "text": [
      "In /Users/peter/anaconda3/lib/python3.7/site-packages/matplotlib/mpl-data/stylelib/_classic_test.mplstyle: \n",
      "The savefig.frameon rcparam was deprecated in Matplotlib 3.1 and will be removed in 3.3.\n",
      "In /Users/peter/anaconda3/lib/python3.7/site-packages/matplotlib/mpl-data/stylelib/_classic_test.mplstyle: \n",
      "The verbose.level rcparam was deprecated in Matplotlib 3.1 and will be removed in 3.3.\n",
      "In /Users/peter/anaconda3/lib/python3.7/site-packages/matplotlib/mpl-data/stylelib/_classic_test.mplstyle: \n",
      "The verbose.fileo rcparam was deprecated in Matplotlib 3.1 and will be removed in 3.3.\n"
     ]
    },
    {
     "data": {
      "text/plain": [
       "<matplotlib.axes._subplots.AxesSubplot at 0x7fb0f953dd30>"
      ]
     },
     "execution_count": 8,
     "metadata": {},
     "output_type": "execute_result"
    },
    {
     "data": {
      "image/png": "[encoded data removed]",
      "text/plain": [
       "<Figure size 432x288 with 1 Axes>"
      ]
     },
     "metadata": {
      "needs_background": "light"
     },
     "output_type": "display_data"
    }
   ],
   "source": [
    "mtm.df_links.plot.scatter(x=\"count\", y=\"q\")"
   ]
  },
  {
   "cell_type": "markdown",
   "metadata": {},
   "source": [
    "## Directed MTM with Networkx"
   ]
  },
  {
   "cell_type": "code",
   "execution_count": 9,
   "metadata": {},
   "outputs": [],
   "source": [
    "from mtsim import DiMTMnx\n",
    "from mtsim.sample_networks import load_network_2_directed"
   ]
  },
  {
   "cell_type": "code",
   "execution_count": 10,
   "metadata": {},
   "outputs": [],
   "source": [
    "df_nodes, df_link_types, df_links = load_network_2_directed()"
   ]
  },
  {
   "cell_type": "code",
   "execution_count": 11,
   "metadata": {},
   "outputs": [],
   "source": [
    "mtm = DiMTMnx()\n",
    "mtm.read_data(df_nodes, df_link_types, df_links)\n",
    "mtm.compute_skims()\n",
    "mtm.generate(\"ALL\", \"pop\", \"pop\", 0.3)\n",
    "mtm.distribute(\"ALL\", \"t0\", \"exp\", 0.02)\n",
    "mtm.assign(\"tcur\")"
   ]
  },
  {
   "cell_type": "code",
   "execution_count": 12,
   "metadata": {},
   "outputs": [
    {
     "data": {
      "text/html": [
       "<div>\n",
       "<style scoped>\n",
       "    .dataframe tbody tr th:only-of-type {\n",
       "        vertical-align: middle;\n",
       "    }\n",
       "\n",
       "    .dataframe tbody tr th {\n",
       "        vertical-align: top;\n",
       "    }\n",
       "\n",
       "    .dataframe thead th {\n",
       "        text-align: right;\n",
       "    }\n",
       "</style>\n",
       "<table border=\"1\" class=\"dataframe\">\n",
       "  <thead>\n",
       "    <tr style=\"text-align: right;\">\n",
       "      <th></th>\n",
       "      <th></th>\n",
       "      <th>id</th>\n",
       "      <th>type</th>\n",
       "      <th>l</th>\n",
       "      <th>name</th>\n",
       "      <th>count</th>\n",
       "      <th>qmax</th>\n",
       "      <th>v0</th>\n",
       "      <th>a</th>\n",
       "      <th>b</th>\n",
       "      <th>t0</th>\n",
       "      <th>q</th>\n",
       "      <th>tcur</th>\n",
       "      <th>vcur</th>\n",
       "    </tr>\n",
       "    <tr>\n",
       "      <th>node_from</th>\n",
       "      <th>node_to</th>\n",
       "      <th></th>\n",
       "      <th></th>\n",
       "      <th></th>\n",
       "      <th></th>\n",
       "      <th></th>\n",
       "      <th></th>\n",
       "      <th></th>\n",
       "      <th></th>\n",
       "      <th></th>\n",
       "      <th></th>\n",
       "      <th></th>\n",
       "      <th></th>\n",
       "      <th></th>\n",
       "    </tr>\n",
       "  </thead>\n",
       "  <tbody>\n",
       "    <tr>\n",
       "      <th>1</th>\n",
       "      <th>2</th>\n",
       "      <td>1</td>\n",
       "      <td>1</td>\n",
       "      <td>36.000</td>\n",
       "      <td>BA-TT D1</td>\n",
       "      <td>22542.5</td>\n",
       "      <td>70000</td>\n",
       "      <td>110</td>\n",
       "      <td>0.15</td>\n",
       "      <td>4</td>\n",
       "      <td>19.636364</td>\n",
       "      <td>45559.268332</td>\n",
       "      <td>20.164891</td>\n",
       "      <td>107.116872</td>\n",
       "    </tr>\n",
       "    <tr>\n",
       "      <th rowspan=\"2\" valign=\"top\">2</th>\n",
       "      <th>1</th>\n",
       "      <td>1</td>\n",
       "      <td>1</td>\n",
       "      <td>36.000</td>\n",
       "      <td>BA-TT D1</td>\n",
       "      <td>22542.5</td>\n",
       "      <td>70000</td>\n",
       "      <td>110</td>\n",
       "      <td>0.15</td>\n",
       "      <td>4</td>\n",
       "      <td>19.636364</td>\n",
       "      <td>46114.755604</td>\n",
       "      <td>20.191142</td>\n",
       "      <td>106.977602</td>\n",
       "    </tr>\n",
       "    <tr>\n",
       "      <th>3</th>\n",
       "      <td>2</td>\n",
       "      <td>2</td>\n",
       "      <td>36.006</td>\n",
       "      <td>TT-NR R1</td>\n",
       "      <td>12567.5</td>\n",
       "      <td>50000</td>\n",
       "      <td>125</td>\n",
       "      <td>0.15</td>\n",
       "      <td>4</td>\n",
       "      <td>17.282880</td>\n",
       "      <td>34087.529861</td>\n",
       "      <td>17.842908</td>\n",
       "      <td>121.076679</td>\n",
       "    </tr>\n",
       "    <tr>\n",
       "      <th>3</th>\n",
       "      <th>2</th>\n",
       "      <td>2</td>\n",
       "      <td>2</td>\n",
       "      <td>36.006</td>\n",
       "      <td>TT-NR R1</td>\n",
       "      <td>12567.5</td>\n",
       "      <td>50000</td>\n",
       "      <td>125</td>\n",
       "      <td>0.15</td>\n",
       "      <td>4</td>\n",
       "      <td>17.282880</td>\n",
       "      <td>34454.219380</td>\n",
       "      <td>17.867397</td>\n",
       "      <td>120.910730</td>\n",
       "    </tr>\n",
       "    <tr>\n",
       "      <th>2</th>\n",
       "      <th>4</th>\n",
       "      <td>3</td>\n",
       "      <td>2</td>\n",
       "      <td>75.005</td>\n",
       "      <td>TT-TN D1</td>\n",
       "      <td>9544.0</td>\n",
       "      <td>50000</td>\n",
       "      <td>125</td>\n",
       "      <td>0.15</td>\n",
       "      <td>4</td>\n",
       "      <td>36.002400</td>\n",
       "      <td>26614.202415</td>\n",
       "      <td>36.435907</td>\n",
       "      <td>123.512774</td>\n",
       "    </tr>\n",
       "  </tbody>\n",
       "</table>\n",
       "</div>"
      ],
      "text/plain": [
       "                   id  type       l      name    count   qmax   v0     a  b  \\\n",
       "node_from node_to                                                             \n",
       "1         2         1     1  36.000  BA-TT D1  22542.5  70000  110  0.15  4   \n",
       "2         1         1     1  36.000  BA-TT D1  22542.5  70000  110  0.15  4   \n",
       "          3         2     2  36.006  TT-NR R1  12567.5  50000  125  0.15  4   \n",
       "3         2         2     2  36.006  TT-NR R1  12567.5  50000  125  0.15  4   \n",
       "2         4         3     2  75.005  TT-TN D1   9544.0  50000  125  0.15  4   \n",
       "\n",
       "                          t0             q       tcur        vcur  \n",
       "node_from node_to                                                  \n",
       "1         2        19.636364  45559.268332  20.164891  107.116872  \n",
       "2         1        19.636364  46114.755604  20.191142  106.977602  \n",
       "          3        17.282880  34087.529861  17.842908  121.076679  \n",
       "3         2        17.282880  34454.219380  17.867397  120.910730  \n",
       "2         4        36.002400  26614.202415  36.435907  123.512774  "
      ]
     },
     "execution_count": 12,
     "metadata": {},
     "output_type": "execute_result"
    }
   ],
   "source": [
    "mtm.df_links.head()"
   ]
  },
  {
   "cell_type": "code",
   "execution_count": 13,
   "metadata": {},
   "outputs": [
    {
     "data": {
      "text/plain": [
       "<matplotlib.axes._subplots.AxesSubplot at 0x7fb0f96ca390>"
      ]
     },
     "execution_count": 13,
     "metadata": {},
     "output_type": "execute_result"
    },
    {
     "data": {
      "image/png": "[encoded data removed]",
      "text/plain": [
       "<Figure size 432x288 with 1 Axes>"
      ]
     },
     "metadata": {
      "needs_background": "light"
     },
     "output_type": "display_data"
    }
   ],
   "source": [
    "mtm.df_links.plot.scatter(x=\"count\", y=\"q\")"
   ]
  },
  {
   "cell_type": "code",
   "execution_count": null,
   "metadata": {},
   "outputs": [],
   "source": []
  },
  {
   "cell_type": "code",
   "execution_count": null,
   "metadata": {},
   "outputs": [],
   "source": []
  },
  {
   "cell_type": "code",
   "execution_count": null,
   "metadata": {},
   "outputs": [],
   "source": []
  }
 ],
 "metadata": {
  "kernelspec": {
   "display_name": "Python 3",
   "language": "python",
   "name": "python3"
  },
  "language_info": {
   "codemirror_mode": {
    "name": "ipython",
    "version": 3
   },
   "file_extension": ".py",
   "mimetype": "text/x-python",
   "name": "python",
   "nbconvert_exporter": "python",
   "pygments_lexer": "ipython3",
   "version": "3.7.3"
  }
 },
 "nbformat": 4,
 "nbformat_minor": 4
}
